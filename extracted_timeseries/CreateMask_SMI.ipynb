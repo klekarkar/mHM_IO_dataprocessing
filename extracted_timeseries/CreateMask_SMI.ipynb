{
 "cells": [
  {
   "cell_type": "code",
   "execution_count": 1,
   "id": "e48b6890",
   "metadata": {},
   "outputs": [],
   "source": [
    "import xarray as xr\n",
    "import numpy as np"
   ]
  },
  {
   "cell_type": "markdown",
   "id": "66ed65ab",
   "metadata": {},
   "source": [
    "### Creating mask using QGIS\n",
    ">> Project the shapefile to desired UTM  \n",
    ">> Convert the projected shapefile to a GeoTiff and set the extents equal to the projected mHM Fluxes  \n",
    ">> Convert the GeoTiff file to nc file using Processing tooolbox\n"
   ]
  },
  {
   "cell_type": "code",
   "execution_count": 102,
   "id": "1b945b0f",
   "metadata": {},
   "outputs": [],
   "source": [
    "#Read the mask created from QGIS\n",
    "mask = xr.open_dataset(r\"W:\\VUB\\_main_research\\mHM\\mhm_outputs\\mHM_EOBS\\tmp_workingfiles\\BE_EPSG_32631_mask.nc\",\n",
    "                        engine=\"netcdf4\")"
   ]
  },
  {
   "cell_type": "code",
   "execution_count": null,
   "id": "4fceaaef",
   "metadata": {},
   "outputs": [],
   "source": [
    "#rename the mask variable to mask\n",
    "mask = mask.rename({\"Band1\": \"mask\"})\n",
    "\n",
    "mask = mask.rename({\"x\": \"lon\", \"y\": \"lat\"})\n",
    "\n",
    "#set all mask values less than 1 to -9999\n",
    "mask['mask'] = xr.where(mask['mask'] < 1, -9999, mask['mask'])\n",
    "\n",
    "#Export the mask to netcdf\n",
    "#mask.to_netcdf(\"W:/VUB/_main_research/mHM/mhm_outputs/mHM_EOBS/BE_EPSG_32631_mask.nc\", mode=\"w\")"
   ]
  },
  {
   "cell_type": "code",
   "execution_count": 111,
   "id": "0cad969c",
   "metadata": {},
   "outputs": [],
   "source": [
    "smi = xr.open_dataset(r\"W:\\VUB\\_main_research\\mHM\\mhm_outputs\\mHM_EOBS\\tmp_workingfiles\\SMI.nc\")"
   ]
  },
  {
   "cell_type": "code",
   "execution_count": 112,
   "id": "2a9f1237",
   "metadata": {},
   "outputs": [],
   "source": [
    "#reverse the lon values\n",
    "smi['lat'] = smi['lat'].values[::-1]"
   ]
  },
  {
   "cell_type": "code",
   "execution_count": null,
   "id": "bd79dde5",
   "metadata": {},
   "outputs": [],
   "source": []
  }
 ],
 "metadata": {
  "kernelspec": {
   "display_name": "py_data_analysis",
   "language": "python",
   "name": "python3"
  },
  "language_info": {
   "codemirror_mode": {
    "name": "ipython",
    "version": 3
   },
   "file_extension": ".py",
   "mimetype": "text/x-python",
   "name": "python",
   "nbconvert_exporter": "python",
   "pygments_lexer": "ipython3",
   "version": "3.9.19"
  }
 },
 "nbformat": 4,
 "nbformat_minor": 5
}
