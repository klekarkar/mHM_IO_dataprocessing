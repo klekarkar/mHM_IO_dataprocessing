{
 "cells": [
  {
   "cell_type": "code",
   "execution_count": null,
   "metadata": {},
   "outputs": [],
   "source": [
    "import pandas as pd\n",
    "import numpy as np\n",
    "import os\n",
    "import xarray as xr\n",
    "import matplotlib.pyplot as plt\n",
    "import glob"
   ]
  },
  {
   "cell_type": "markdown",
   "metadata": {},
   "source": [
    "### Process EOBS data to mHM"
   ]
  },
  {
   "cell_type": "code",
   "execution_count": 3,
   "metadata": {},
   "outputs": [],
   "source": [
    "# Define variable mappings\n",
    "vars = [\"rr\", \"tx\", \"tn\", \"tg\"]\n",
    "mhm_varsnames = [\"pre\", \"tmax\", \"tmin\", \"tavg\"]\n",
    "\n",
    "src_dir = \"D:/VUB/_data/EOBS_metdata\"\n",
    "output_dir = os.path.join(src_dir, \"mhm_format\")\n",
    "os.makedirs(output_dir, exist_ok=True)  # Ensure output directory exists\n",
    "\n",
    "for var, var_name in zip(vars, mhm_varsnames):\n",
    "    var_files = glob.glob(os.path.join(src_dir, f\"*{var}_*.nc\"))\n",
    "    \n",
    "    if not var_files:\n",
    "        print(f\"Warning: No file found for {var}\")\n",
    "        continue  # Skip if no matching file\n",
    "    \n",
    "    var_path = var_files[0]\n",
    "    ds = xr.open_dataset(var_path)\n",
    "\n",
    "    # Verify coordinate names\n",
    "    lon_name = \"longitude\" if \"longitude\" in ds.coords else \"lon\"\n",
    "    lat_name = \"latitude\" if \"latitude\" in ds.coords else \"lat\"\n",
    "\n",
    "    # Clip to mHM domain\n",
    "    lon_min, lon_max, lat_min, lat_max = 2.0, 7.0, 48.5, 52.0\n",
    "    ds_domain = ds.sel({lon_name: slice(lon_min, lon_max), lat_name: slice(lat_min, lat_max)})\n",
    "\n",
    "    # Rename variables to mHM convention\n",
    "    ds_domain = ds_domain.rename({var: var_name})\n",
    "\n",
    "    # Select data from 1950 to 2023\n",
    "    ds_domain = ds_domain.sel(time=slice(\"1950-01-01\", \"2023-12-31\"))\n",
    "\n",
    "    # # # Save to NetCDF\n",
    "    # outfile = os.path.join(output_dir, f\"{var_name}_raw.nc\")\n",
    "    # ds_domain.to_netcdf(outfile, mode=\"w\")"
   ]
  },
  {
   "cell_type": "code",
   "execution_count": 9,
   "metadata": {},
   "outputs": [],
   "source": [
    "lat = ds_domain.latitude\n",
    "\n",
    "lat = np.tile(lat, (40, 1))  # Expand to (40, 28)\n",
    "lat = lat[None, :, :]  # Reshape to (1, 40, 28) for broadcasting"
   ]
  },
  {
   "cell_type": "code",
   "execution_count": 14,
   "metadata": {},
   "outputs": [],
   "source": [
    "#calculate pet using Hargreaves Samani method\n",
    "\n",
    "def hargreaves_samani(tmin, tmax, lat, tavg=None):\n",
    "    \"\"\"\n",
    "    Calculate potential evapotranspiration (PET) using the Hargreaves-Samani method.\n",
    "\n",
    "    Parameters:\n",
    "    tmin (xarray.DataArray): Minimum temperature (°C).\n",
    "    tmax (xarray.DataArray): Maximum temperature (°C).\n",
    "    lat (xarray.DataArray): Latitude (degrees).\n",
    "    tavg (xarray.DataArray, optional): Average temperature (°C).\n",
    "\n",
    "    Returns:\n",
    "    xarray.DataArray: Potential evapotranspiration (mm/day).\n",
    "    \"\"\"\n",
    "    # Convert latitude to radians\n",
    "    lat_rad = np.radians(lat)\n",
    "\n",
    "    # Calculate the mean temperature if not provided\n",
    "    if tavg is None:\n",
    "        tavg = (tmin + tmax) / 2.0\n",
    "\n",
    "    # Calculate the day of the year\n",
    "    doy = ds_domain.time.dt.dayofyear\n",
    "\n",
    "    # Calculate the extraterrestrial radiation\n",
    "    dr = 1 + 0.033 * np.cos(2 * np.pi * doy / 365.0)\n",
    "    delta = 0.409 * np.sin((2 * np.pi / 365) * doy - 1.39)\n",
    "    ra = (24 * 60 / np.pi) * 0.0820 * dr * (\n",
    "        np.sin(lat_rad) * np.sin(delta) + np.cos(lat_rad) * np.cos(delta) * np.sin(2 * np.pi * doy / 365.0)\n",
    "    )\n",
    "\n",
    "    # Calculate PET using Hargreaves-Samani method\n",
    "    pet = 0.0023 * ra * ((tmax - tmin) ** 0.5) * ((tavg + 17.8))\n",
    "\n",
    "    return pet"
   ]
  },
  {
   "cell_type": "code",
   "execution_count": 15,
   "metadata": {},
   "outputs": [],
   "source": [
    "doy = ds_domain.time.dt.dayofyear"
   ]
  }
 ],
 "metadata": {
  "kernelspec": {
   "display_name": "py_data_analysis",
   "language": "python",
   "name": "python3"
  },
  "language_info": {
   "codemirror_mode": {
    "name": "ipython",
    "version": 3
   },
   "file_extension": ".py",
   "mimetype": "text/x-python",
   "name": "python",
   "nbconvert_exporter": "python",
   "pygments_lexer": "ipython3",
   "version": "3.9.19"
  }
 },
 "nbformat": 4,
 "nbformat_minor": 2
}
