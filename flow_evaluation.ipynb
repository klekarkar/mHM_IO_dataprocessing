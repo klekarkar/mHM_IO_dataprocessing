{
 "cells": [
  {
   "cell_type": "code",
   "execution_count": 6,
   "id": "9da11d4e",
   "metadata": {},
   "outputs": [],
   "source": [
    "import process_observed_discharge as q\n",
    "import os\n",
    "\n",
    "import warnings\n",
    "warnings.simplefilter(\"ignore\")"
   ]
  },
  {
   "cell_type": "markdown",
   "id": "01e934da",
   "metadata": {},
   "source": [
    "### Unzip files and copy to common folder\n",
    "First unzip the files in individual folders and then transfer the tmeseries files into a common folder. For this, use the uzip_files and copy_to_common_folder  functions in the process_observed_discharge module"
   ]
  },
  {
   "cell_type": "code",
   "execution_count": null,
   "id": "e866fa99",
   "metadata": {},
   "outputs": [],
   "source": [
    "src_zipped_wallonie = 'D:/VUB/_data/hydrometrie_wallonie/rawfiles'\n",
    "common_folder_wallonie = 'D:/VUB/_data/hydrometrie_wallonie/unzipped_all'\n",
    "\n",
    "src_zipped_waterinfo = 'D:/VUB/_data/waterinfo/zipped'\n",
    "common_folder_waterinfo = 'D:/VUB/_data/waterinfo/unzipped'\n",
    "\n",
    "#For stations in Flanders, the station metadata is downloaded from the Waterinfo website using the py_waterinfo package.\n",
    "#I decided to download the timeseries one by one because I struggled with the py_waterinfo package. It also helped me to skip data from canals\n",
    "#The data has been processed using the download_waterinfo_data.ipynb notebook and saved as a csv file (waterinfo_Q_Stations.csv).\n",
    "#The csv file contains the station name and coordinates.\n",
    "#Since we do not need to use Q data from canals, we filter out the stations that are not rivers."
   ]
  },
  {
   "cell_type": "code",
   "execution_count": null,
   "id": "8e83c0e3",
   "metadata": {},
   "outputs": [],
   "source": [
    "#unzip the files (both Wallonie and Waterinfo)\n",
    "q.unzip_files(src_zipped_waterinfo, common_folder_waterinfo)"
   ]
  },
  {
   "cell_type": "code",
   "execution_count": 4,
   "id": "a4b0292d",
   "metadata": {},
   "outputs": [],
   "source": [
    "#copy files to common folder\n",
    "#q.copy_to_common_folder(src_zipped, common_folder)"
   ]
  },
  {
   "cell_type": "code",
   "execution_count": null,
   "id": "27354b96",
   "metadata": {},
   "outputs": [],
   "source": [
    "#Extract station timeseries and coordinates for Wallonie data\n",
    "Q_dict, station_coords = q.extract_timeseries_wallonie(common_folder_wallonie)"
   ]
  },
  {
   "cell_type": "markdown",
   "id": "73d7cf05",
   "metadata": {},
   "source": [
    "#### Intersect waterinfo timeseries with station metadata\n",
    "Since we do not need to use Q data from canals, we filter out the stations that are not rivers."
   ]
  }
 ],
 "metadata": {
  "kernelspec": {
   "display_name": "py_data_analysis",
   "language": "python",
   "name": "python3"
  },
  "language_info": {
   "codemirror_mode": {
    "name": "ipython",
    "version": 3
   },
   "file_extension": ".py",
   "mimetype": "text/x-python",
   "name": "python",
   "nbconvert_exporter": "python",
   "pygments_lexer": "ipython3",
   "version": "3.9.19"
  }
 },
 "nbformat": 4,
 "nbformat_minor": 5
}
