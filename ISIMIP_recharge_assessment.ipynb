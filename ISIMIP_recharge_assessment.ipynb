{
 "cells": [
  {
   "cell_type": "code",
   "execution_count": 1,
   "id": "f06c636a",
   "metadata": {},
   "outputs": [],
   "source": [
    "import pickle\n",
    "import matplotlib.pyplot as plt\n",
    "import pandas as pd\n",
    "import numpy as np\n",
    "import os\n",
    "import recharge_funcs as rf\n",
    "#segoe UI\n",
    "plt.rcParams['font.family'] = 'Segoe UI'"
   ]
  },
  {
   "cell_type": "markdown",
   "id": "23c75086",
   "metadata": {},
   "source": [
    "#### Model Evaluation\n",
    "Seasonal comparison of discharge and baseflow"
   ]
  },
  {
   "cell_type": "code",
   "execution_count": 2,
   "id": "0d0bf144",
   "metadata": {},
   "outputs": [],
   "source": [
    "models = [\"GFDL-ESM4\", \"IPSL-CM6A-LR\", \"MPI-ESM1-2-HR\", \"MRI-ESM2-0\", \"UKESM1-0-LL\"]\n",
    "\n",
    "#Open picked flow data for evaluation stations\n",
    "with open(\"eval_stations_Q.pickle\", \"rb\") as f:\n",
    "    eval_Obs = pickle.load(f)\n",
    "\n",
    "#read validation stations (NSE>0) #from the flow_validation notebook\n",
    "val_gdf = pd.read_csv('validation_stations_NSE_above_0.csv')\n",
    "\n",
    "#Canals to be removed\n",
    "canals = ['HACCOURT', 'Merendree_Afleidingskl Leie', 'Damme_Leopoldkl']\n",
    "\n",
    "#Extract only stations in val_gdf\n",
    "eval_Obs = {k: v for k, v in eval_Obs.items() if k in val_gdf['name'].values}\n",
    "\n",
    "# Remove canal stations\n",
    "eval_Obs = {k: v for k, v in eval_Obs.items() if k not in canals}\n",
    "\n",
    "seasons = ['DJF', 'MAM', 'JJA', 'SON']\n",
    "\n",
    "season_map = {12:\"DJF\",1:\"DJF\",2:\"DJF\",\n",
    "            3:\"MAM\",4:\"MAM\",5:\"MAM\",\n",
    "            6:\"JJA\",7:\"JJA\",8:\"JJA\",\n",
    "            9:\"SON\",10:\"SON\",11:\"SON\"}"
   ]
  },
  {
   "cell_type": "markdown",
   "id": "c4a64632",
   "metadata": {},
   "source": [
    "#### Seasonal comparison of per-station Q"
   ]
  },
  {
   "cell_type": "code",
   "execution_count": 3,
   "id": "a08bca17",
   "metadata": {},
   "outputs": [],
   "source": [
    "base_sim_dir = r\"W:\\VUB\\_main_research\\mHM\\scripts\\isimip_Q\"\n",
    "sim_subfolder = \"Qrouted\"\n",
    "\n",
    "#Extract and seasonalize total discharge\n",
    "#model_seasons_df = rf.seasonal_Q_comparison(base_sim_dir, sim_subfolder, models, eval_Obs, season_map)\n"
   ]
  },
  {
   "cell_type": "code",
   "execution_count": null,
   "id": "6e3b3834",
   "metadata": {},
   "outputs": [
    {
     "name": "stdout",
     "output_type": "stream",
     "text": [
      "Extracting baseflow using multiple for AARSCHOT AFWAARTS_DEMER\r"
     ]
    }
   ],
   "source": [
    "#extract multistation baseflow\n",
    "baseflow = rf.extract_multistation_baseflow(base_sim_dir, sim_subfolder, models, eval_Obs)"
   ]
  },
  {
   "cell_type": "code",
   "execution_count": null,
   "id": "84b559a3",
   "metadata": {},
   "outputs": [],
   "source": [
    "#seasonalize baseflow\n",
    "seasonal_bf = rf.seasonal_baseflow_analysis(baseflow, models, season_map)"
   ]
  },
  {
   "cell_type": "markdown",
   "id": "b66062f4",
   "metadata": {},
   "source": [
    "#### Extract Baseflow"
   ]
  },
  {
   "cell_type": "code",
   "execution_count": null,
   "id": "c2e09358",
   "metadata": {},
   "outputs": [],
   "source": [
    "rf.plot_multimodel_spread(seasonal_bf, seasons,\n",
    "                       'obs_Qb', 'sim_Qb',\n",
    "                       xlabel=\"Observed seasonal baseflow\",\n",
    "                       ylabel=\"Simulated seasonal baseflow\")"
   ]
  },
  {
   "cell_type": "code",
   "execution_count": null,
   "id": "1184e15b",
   "metadata": {},
   "outputs": [],
   "source": [
    "plot_multimodel_spread(model_seasons_df, seasons,\n",
    "                       \"q_obs\", 'q_model',\n",
    "                       xlabel=\"Observed seasonal flow\",\n",
    "                       ylabel=\"Simulated seasonal flow\")"
   ]
  }
 ],
 "metadata": {
  "kernelspec": {
   "display_name": "py_geospatial",
   "language": "python",
   "name": "python3"
  },
  "language_info": {
   "codemirror_mode": {
    "name": "ipython",
    "version": 3
   },
   "file_extension": ".py",
   "mimetype": "text/x-python",
   "name": "python",
   "nbconvert_exporter": "python",
   "pygments_lexer": "ipython3",
   "version": "3.9.19"
  }
 },
 "nbformat": 4,
 "nbformat_minor": 5
}
