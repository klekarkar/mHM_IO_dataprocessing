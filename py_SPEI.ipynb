{
 "cells": [
  {
   "cell_type": "code",
   "execution_count": 1,
   "id": "640fd686",
   "metadata": {},
   "outputs": [],
   "source": [
    "import os\n",
    "import spei as sp #spei package\n",
    "import xarray as xr\n",
    "import numpy as np\n",
    "import pandas as pd\n",
    "import scipy.stats as scs\n",
    "from joblib import Parallel, delayed\n",
    "import multiprocessing\n",
    "import mhm_dataprocessing as md\n",
    "import geopandas as gpd\n",
    "from tqdm import tqdm  # pip install tqdm\n",
    "import matplotlib.pyplot as plt\n",
    "import xarray as xr\n",
    "import rioxarray as rio\n",
    "from itertools import product\n",
    "import mhm_drought_funcs as mdf"
   ]
  },
  {
   "cell_type": "code",
   "execution_count": 5,
   "id": "b3f2b5ca",
   "metadata": {},
   "outputs": [],
   "source": [
    "src = r'D:/VUB/_data/mHM_EOBS'\n",
    "\n",
    "#Data already clipped to domain boundaries\n",
    "pet = xr.open_dataset(f'{src}/pet_UTMx.nc')\n",
    "pre = xr.open_dataset(f'{src}/pre_UTMx.nc')\n",
    "spi_3_da = xr.open_dataset(f'{src}/spi_3_hpc.nc') #implemented in the HPC\n",
    "spi_1 = xr.open_dataset(f'{src}/spi_1_hpc.nc') #implemented in the HPC\n",
    "spei_1 = xr.open_dataset(f'{src}/spei_1.nc') #implemented in the HPC\n",
    "spei_3 = xr.open_dataset(f'{src}/spei_3.nc') #implemented in the HPC\n",
    "\n",
    "\n",
    "drought_ADM = pd.read_csv(os.path.join(src, 'results_ADM.txt'), index_col=0, sep=\"\\s+\")\n",
    "\n",
    "\n",
    "#outputs: drought clusters\n",
    "dCluster = xr.open_dataset(f'{src}/DCluster.nc')\n",
    "sMI = xr.open_dataset(f'{src}/SMI.nc')\n",
    "mask = xr.open_dataset(f'{src}/BE_SMI_mask.nc')\n",
    "\n",
    "#BE shapefile\n",
    "be_shp = gpd.read_file(r\"W:/VUB/_main_research/mHM/mhm_belgium/be_shp/be_joined_epsg_32631.shp\")\n"
   ]
  },
  {
   "cell_type": "markdown",
   "id": "ea219e4f",
   "metadata": {},
   "source": [
    "#### Clip to model domain and simulation period"
   ]
  },
  {
   "cell_type": "code",
   "execution_count": 3,
   "id": "4606b1c3",
   "metadata": {},
   "outputs": [],
   "source": [
    "#clip the Datasets to BE boundary\n",
    "pet = md.clip_to_region(be_shp, pet)\n",
    "pre = md.clip_to_region(be_shp, pre)\n",
    "\n",
    "#slide data to start from 1970\n",
    "pet = pet.sel(time=slice('1970-01-01', None))\n",
    "pre = pre.sel(time=slice('1970-01-01', None))\n",
    "\n",
    "#mask areas with constant values using data variance\n",
    "pet = pet.where(pet.pet.var(dim='time') > 0.001, drop=False)\n",
    "pre = pre.where(pre.pre.var(dim='time') > 0.001, drop=False)\n",
    "\n",
    "#compute water balance (precipitatione excess) for spei\n",
    "p_excess = pre.pre - pet.pet"
   ]
  },
  {
   "cell_type": "code",
   "execution_count": null,
   "id": "0b0f17d9",
   "metadata": {},
   "outputs": [],
   "source": [
    "#p_excess to xr dataset\n",
    "p_excess = p_excess.to_dataset(name='p_excess')\n",
    "#p_excess.to_netcdf(f'{src}/p_excess_BE_UTMx.nc')\n",
    "# pre.to_netcdf(f'{src}/pre_BE_UTMx.nc')"
   ]
  },
  {
   "cell_type": "code",
   "execution_count": null,
   "id": "abcbf80f",
   "metadata": {},
   "outputs": [],
   "source": [
    "spi_3_da['spi_3'].isel(time=0).plot(cmap='RdYlBu_r', vmin=-3, vmax=3)"
   ]
  },
  {
   "cell_type": "markdown",
   "id": "e97ec6bf",
   "metadata": {},
   "source": [
    "#### Clip dCluster to match extent of meteo datasets"
   ]
  },
  {
   "cell_type": "code",
   "execution_count": null,
   "id": "7b274d21",
   "metadata": {},
   "outputs": [],
   "source": [
    "#clip dCLuster using pre map\n",
    "dCluster = dCluster.sel(lat=slice(pre.lat.max(), pre.lat.min()),\n",
    "                        lon=slice(pre.lon.min(), pre.lon.max()))"
   ]
  },
  {
   "cell_type": "markdown",
   "id": "e0ec9333",
   "metadata": {},
   "source": [
    "#### GRid Cell SPI3"
   ]
  },
  {
   "cell_type": "code",
   "execution_count": null,
   "id": "33c446bc",
   "metadata": {},
   "outputs": [],
   "source": [
    "# Compute SPI for different timescales\n",
    "spi_1 = mdf.compute_SPI(pre, 'pre', 30)  # SPI-1\n",
    "#export the SPI-1 to netcdf\n",
    "spi_1.to_netcdf(f'{src}/spi_1.nc')"
   ]
  },
  {
   "cell_type": "markdown",
   "id": "49733fa3",
   "metadata": {},
   "source": [
    "#### GridCELL SPEI"
   ]
  },
  {
   "cell_type": "code",
   "execution_count": null,
   "id": "19910d80",
   "metadata": {},
   "outputs": [],
   "source": [
    "# Compute SPEI for the given timescale\n",
    "spei_1 = mdf.compute_SPEI(p_excess, 'p_excess', 30)  # SPEI-1\n",
    "# Export the SPEI-1 to netcdf\n",
    "spei_1.to_netcdf(f'{src}/spei_1.nc')"
   ]
  },
  {
   "cell_type": "code",
   "execution_count": null,
   "id": "3cffe938",
   "metadata": {},
   "outputs": [],
   "source": [
    "#3 month p_excess accumulation\n",
    "timescale = 30\n",
    "p_excess_accum = p_excess.rolling(time=timescale).sum()\n",
    "pre_accum = pre.rolling(time=timescale).sum()"
   ]
  },
  {
   "cell_type": "code",
   "execution_count": null,
   "id": "345f74c0",
   "metadata": {},
   "outputs": [],
   "source": [
    "lat = 5589595.563692  # Example latitude in UTM\n",
    "lon = 705128.602119  # Example longitude in UTM\n",
    "\n",
    "p_excess_tx = p_excess_accum.p_excess.sel(lat=lat, lon=lon, method='nearest').to_series().dropna()\n",
    "precip_tx = pre_accum.pre.sel(lat=lat, lon=lon, method='nearest').to_series().dropna()\n",
    "\n",
    "spi_3 = sp.spi(precip_tx, dist=scs.gamma, fit_freq=\"ME\")\n",
    "#spi_3_d = sp.spi(precip_tx, dist=scs.gamma, fit_freq=\"D\")\n",
    "spei_3 = sp.spei(p_excess_tx, fit_freq=\"ME\")"
   ]
  },
  {
   "cell_type": "code",
   "execution_count": null,
   "id": "faf6606c",
   "metadata": {},
   "outputs": [],
   "source": [
    "fig, ax = plt.subplots(figsize=(15, 2.5))\n",
    "startwindow = '2010-10-01'\n",
    "endwindow='2020-12-31'\n",
    "\n",
    "#spei_da.sel(lat=lat, lon=lon, method='nearest').to_dataframe().drop(columns=['lat', 'lon'])[startwindow:endwindow].plot(ax=ax, color='blue', label='SPEI-3 (calculated)')\n",
    "#spei_3[startwindow:endwindow].plot(ax=ax, color='red', ls='--', label='SPEI-3 (calculated)')\n",
    "\n",
    "# spi_3_da.sel(lat=lat, lon=lon, method='nearest').to_dataframe().drop(columns=['lat', 'lon'])[startwindow:endwindow].plot(ax=ax, c='r')\n",
    "spi_3[startwindow:endwindow].plot(ax=ax, color='dodgerblue', label='SPI-3 (timeseries)', ls='--')\n",
    "spi_3_d[startwindow:endwindow].plot(ax=ax, color='orange', label='SPI-3 (daily)', ls='--')\n",
    "\n",
    "plt.axhline(-2, color='black', ls='--')\n",
    "plt.axhline(0, color='black', ls='-')\n",
    "plt.legend()"
   ]
  },
  {
   "cell_type": "code",
   "execution_count": null,
   "id": "d54bd5cd",
   "metadata": {},
   "outputs": [],
   "source": [
    "dCluster.sel(time=slice('1995-08-01', '1996-08-28'))['mDC'][9].plot()"
   ]
  },
  {
   "cell_type": "markdown",
   "id": "b64a3e2a",
   "metadata": {},
   "source": [
    "#### Compare SMI and SPEI"
   ]
  },
  {
   "cell_type": "code",
   "execution_count": null,
   "id": "11dbd350",
   "metadata": {},
   "outputs": [],
   "source": [
    "#cluster IDs of major droughts and their duration\n",
    "#Assign dates to the drought periods\n",
    "base_date = datetime(1970, 1, 31) #simulation starts from 1970-01-01, which is mStart=1, so we use 1969-12-31 as the base date\n",
    "\n",
    "def add_months(months):\n",
    "    return base_date + relativedelta(months=int(months)-1)\n",
    "\n",
    "drought_ADM['start_month'] = drought_ADM['mStart'].map(add_months)\n",
    "drought_ADM['end_month'] = drought_ADM['mEnd'].map(add_months)\n",
    "drought_ADM.nlargest(8, 'TDM')\n"
   ]
  }
 ],
 "metadata": {
  "kernelspec": {
   "display_name": "py_data_analysis",
   "language": "python",
   "name": "python3"
  },
  "language_info": {
   "codemirror_mode": {
    "name": "ipython",
    "version": 3
   },
   "file_extension": ".py",
   "mimetype": "text/x-python",
   "name": "python",
   "nbconvert_exporter": "python",
   "pygments_lexer": "ipython3",
   "version": "3.9.19"
  }
 },
 "nbformat": 4,
 "nbformat_minor": 5
}
