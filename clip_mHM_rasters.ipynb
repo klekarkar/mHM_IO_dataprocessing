{
 "cells": [
  {
   "cell_type": "code",
   "execution_count": 1,
   "metadata": {},
   "outputs": [],
   "source": [
    "\"\"\"\n",
    "Clip morphology rasters to extent of meteorological data\n",
    "\"\"\"\n",
    "#py_data_analysis\n",
    "import os\n",
    "from osgeo import gdal\n",
    "import numpy as np\n",
    "import glob\n",
    "import xarray as xr\n",
    "from osgeo import gdal\n",
    "import matplotlib.pyplot as plt"
   ]
  },
  {
   "cell_type": "markdown",
   "metadata": {},
   "source": [
    "#### Method 1: Using a Region extent"
   ]
  },
  {
   "cell_type": "code",
   "execution_count": null,
   "metadata": {},
   "outputs": [],
   "source": [
    "# Load reference grid\n",
    "mHM_grid = xr.open_dataset(r\"W:\\VUB\\_main_research\\mHM\\mhm_belgium\\belgium\\lai\\lai.nc\", decode_times=False)\n",
    "\n",
    "# Define directories\n",
    "in_dir = r'W:\\VUB\\_main_research\\mHM\\mhm_belgium\\belgium\\morph'\n",
    "out_dir = r'W:\\VUB\\_main_research\\mHM\\mhm_belgium\\RMI\\morph'\n",
    "os.makedirs(out_dir, exist_ok=True)\n",
    "\n",
    "# Get list of .asc files\n",
    "morph_files = glob.glob(os.path.join(in_dir, '*.asc'))\n",
    "\n",
    "# Define clipping bounds, rounded to the nearest 0.5\n",
    "lat_min = 49.5\n",
    "lat_max = 51.5\n",
    "lon_min = 2.5\n",
    "lon_max = 6.5\n",
    "\n",
    "# Clip files\n",
    "for morph_file in morph_files:\n",
    "    out_file = os.path.join(out_dir, os.path.basename(morph_file))\n",
    "    gdal.Warp(out_file, morph_file, format='AAIGrid', outputBounds=[lon_min, lat_min, lon_max, lat_max])\n",
    "    print(f'Clipped: {out_file}', end='\\r')"
   ]
  },
  {
   "cell_type": "markdown",
   "metadata": {},
   "source": [
    "#### Method 2: Using a Raster Extent\n",
    "\n",
    "This option clips rasters based on smaller raster that only covers the study domain e.g the boundaries of a country"
   ]
  },
  {
   "cell_type": "code",
   "execution_count": 32,
   "metadata": {},
   "outputs": [
    {
     "name": "stdout",
     "output_type": "stream",
     "text": [
      "Masking complete!\n"
     ]
    }
   ],
   "source": [
    "import os\n",
    "import rasterio\n",
    "\n",
    "# Paths\n",
    "input_path = r'W:\\VUB\\_main_research\\mHM\\mhm_belgium\\RMI\\morph'\n",
    "output_path = r'W:\\VUB\\_main_research\\mHM\\mhm_belgium\\RMI\\morph_BE_domain'\n",
    "domain_raster_path = r'W:\\VUB\\_main_research\\mHM\\mhm_belgium\\RMI\\morph_BE_domain\\be_dem.asc'\n",
    "\n",
    "# List all .asc files in the input directory\n",
    "raster_list = [f for f in os.listdir(input_path) if f.endswith('.asc')]\n",
    "\n",
    "# Read the domain raster once (the mask)\n",
    "with rasterio.open(domain_raster_path) as src_domain:\n",
    "    mask_data = src_domain.read(1)\n",
    "    mask_meta = src_domain.meta\n",
    "\n",
    "# For each raster, open, mask, and write output\n",
    "for raster_name in raster_list:\n",
    "    input_raster = os.path.join(input_path, raster_name)\n",
    "    output_raster = os.path.join(output_path, raster_name)\n",
    "    \n",
    "    with rasterio.open(input_raster) as srcA:\n",
    "        A = srcA.read(1)  # read band 1\n",
    "        \n",
    "        # Make a copy of A to hold the masked result\n",
    "        masked_data = A.copy()\n",
    "        \n",
    "        # Wherever domain raster == -9999, set output to -9999\n",
    "        # (i.e., mask out those pixels in the input raster)\n",
    "        masked_data[mask_data == -9999] = -9999\n",
    "        \n",
    "        # Copy and update metadata\n",
    "        out_meta = srcA.meta.copy()\n",
    "        out_meta.update({\n",
    "            \"nodata\": -9999,\n",
    "            \"dtype\": \"float32\"  # or match your data type\n",
    "        })\n",
    "    \n",
    "    # Save the masked raster\n",
    "    with rasterio.open(output_raster, 'w', **out_meta) as dst:\n",
    "        dst.write(masked_data, 1)\n",
    "\n",
    "print(\"Masking complete!\")\n"
   ]
  }
 ],
 "metadata": {
  "kernelspec": {
   "display_name": "py_data_analysis",
   "language": "python",
   "name": "python3"
  },
  "language_info": {
   "codemirror_mode": {
    "name": "ipython",
    "version": 3
   },
   "file_extension": ".py",
   "mimetype": "text/x-python",
   "name": "python",
   "nbconvert_exporter": "python",
   "pygments_lexer": "ipython3",
   "version": "3.9.19"
  }
 },
 "nbformat": 4,
 "nbformat_minor": 2
}
