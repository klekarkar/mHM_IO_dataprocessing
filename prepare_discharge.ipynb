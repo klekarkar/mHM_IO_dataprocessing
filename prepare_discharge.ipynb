{
 "cells": [
  {
   "cell_type": "code",
   "execution_count": 1,
   "metadata": {},
   "outputs": [],
   "source": [
    "import pandas as pd\n",
    "import numpy as np\n",
    "import matplotlib.pyplot as plt\n",
    "from datetime import datetime, timedelta\n",
    "import xarray as xr\n",
    "import os"
   ]
  },
  {
   "cell_type": "markdown",
   "metadata": {},
   "source": [
    "#### Prepare discharge data in mhm format"
   ]
  },
  {
   "cell_type": "code",
   "execution_count": 8,
   "metadata": {},
   "outputs": [
    {
     "name": "stdout",
     "output_type": "stream",
     "text": [
      "Gauge data has been written to W:/VUB/_main_research/mHM/model_validation_data/mhm_txt_gauges/140.txt\r"
     ]
    }
   ],
   "source": [
    "# Read station data\n",
    "stations_data_folder = r\"W:/VUB/_main_research/mHM/model_validation_data/waterinfo_csv/waterinfo_timeseries/\"\n",
    "station_coords = pd.read_csv(r\"W:/VUB/_main_research/mHM/model_validation_data/waterinfo_csv/waterinfo_timeseries/mhm_flow_stations_coordinates.csv\")\n",
    "\n",
    "\n",
    "for _,row in station_coords.iterrows():\n",
    "    station_name = row.stat_name\n",
    "    river_name = row.basin\n",
    "    gauge_id = row.code\n",
    "\n",
    "    # Extract the station data\n",
    "    station_data = pd.read_csv(os.path.join(stations_data_folder, f\"{station_name}_Q.csv\"), index_col=0)\n",
    "\n",
    "    # Convert index to datetime if it's not parsed correctly\n",
    "    station_data.index = pd.to_datetime(station_data.index, dayfirst=True)\n",
    "\n",
    "    #replace nan values with -9999\n",
    "    station_data = station_data.fillna(-9999)\n",
    "\n",
    "\n",
    "    output_file = f\"W:/VUB/_main_research/mHM/model_validation_data/mhm_txt_gauges/{gauge_id}.txt\"\n",
    "\n",
    "    # Define the start and end dates\n",
    "    # Extract the start and end dates from the data\n",
    "    start_date = station_data.index.min()\n",
    "    end_date = station_data.index.max()\n",
    "\n",
    "    # Define the header information\n",
    "    header = f\"\"\"{gauge_id} {station_name}/{river_name}  (Daily discharge)\n",
    "    nodata   -9999\n",
    "    n          1    measurements per day [1, 1440]\n",
    "    start {start_date.year} {start_date.month:02d} {start_date.day:02d} 00 00    (YYYY MM DD HH MM)\n",
    "    end   {end_date.year} {end_date.month:02d} {end_date.day:02d} 00 00    (YYYY MM DD HH MM)\n",
    "    \"\"\"\n",
    "\n",
    "    # Prepare the measurement data with a single tab between each date component and the measurement\n",
    "    # Prepare the measurement data with two spaces between each date component and the measurement\n",
    "    data_lines = []\n",
    "    for date, row in station_data.iterrows():\n",
    "        # Format each row into the required format (YYYY  MM  DD  HH  MM  VALUE) with two spaces\n",
    "        measurement = row['Q']\n",
    "        date_str = f\"{date.year}  {date.month:02d}  {date.day:02d}  {date.hour:02d}  {date.minute:02d}\"\n",
    "        data_lines.append(f\"{date_str}   {measurement:.3f}\")\n",
    "\n",
    "    # Write to the file with two spaces between columns\n",
    "    with open(output_file, 'w') as file:\n",
    "        file.write(header)\n",
    "        file.write(\"\\n\")\n",
    "        for line in data_lines:\n",
    "            file.write(line + \"\\n\")\n",
    "\n",
    "    print(f\"Gauge data has been written to {output_file}\", end=\"\\r\")"
   ]
  }
 ],
 "metadata": {
  "kernelspec": {
   "display_name": "py_data_analysis",
   "language": "python",
   "name": "python3"
  },
  "language_info": {
   "codemirror_mode": {
    "name": "ipython",
    "version": 3
   },
   "file_extension": ".py",
   "mimetype": "text/x-python",
   "name": "python",
   "nbconvert_exporter": "python",
   "pygments_lexer": "ipython3",
   "version": "3.9.19"
  }
 },
 "nbformat": 4,
 "nbformat_minor": 2
}
