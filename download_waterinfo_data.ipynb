{
 "cells": [
  {
   "cell_type": "code",
   "execution_count": 31,
   "metadata": {},
   "outputs": [],
   "source": [
    "#py_geospatial env\n",
    "import os\n",
    "import pandas as pd\n",
    "import numpy as np\n",
    "from pywaterinfo import Waterinfo\n",
    "vmm = Waterinfo(\"vmm\") # look for data from VMM\n",
    "hic = Waterinfo(\"hic\") # look for data from HIC"
   ]
  },
  {
   "cell_type": "code",
   "execution_count": 26,
   "metadata": {},
   "outputs": [],
   "source": [
    "# all available groupid's provided by VMM\n",
    "df = vmm.get_group_list()"
   ]
  },
  {
   "cell_type": "code",
   "execution_count": 20,
   "metadata": {},
   "outputs": [],
   "source": [
    "# all available groupid's provided by VMM that represent a time series\n",
    "df = vmm.get_group_list(group_type='timeseries')"
   ]
  },
  {
   "cell_type": "code",
   "execution_count": null,
   "metadata": {},
   "outputs": [],
   "source": [
    "# get last day of data for the time series with ID 78124042\n",
    "df = vmm.get_timeseries_values(78124042, period=\"P1D\")\n",
    "\n",
    "# get last day data of time series with ID 78124042 with subset of columns\n",
    "my_columns = (\"Timestamp,Value,Interpolation Type,Quality Code,Quality\"\n",
    "              \" Code Name,Quality Code Description\")\n",
    "df = vmm.get_timeseries_values(78124042, period=\"P1D\",\n",
    "                               returnfields=my_columns)\n",
    "\n",
    "# get the data for ts_id 60992042 and 60968042 (Moerbeke_P and Waregem_P)\n",
    "# for 20190502 till 20190503\n",
    "# Note: UTC as time unit is used as input and asked as output by default\n",
    "df = vmm.get_timeseries_values(\"60992042,60968042\",\n",
    "                          start=\"20190502\", end=\"20190503\")\n",
    "\n",
    "# One can overwrite the timezone to request data in another time zone:\n",
    "df = vmm.get_timeseries_values(\"60992042,60968042\",\n",
    "                          start=\"20190502\", end=\"20190503\", timezone=\"CET\")\n",
    "\n",
    "# get the data for all stations from groups 192900 (yearly rain sum)\n",
    "# and 192895 (yearly discharge average) for the last 2 years\n",
    "df = vmm.get_timeseries_values(timeseriesgroup_id=\"192900,192895\",\n",
    "                               period=\"P2Y\")  \n",
    "\n",
    "hic = Waterinfo(\"hic\")\n",
    "\n",
    "# get last day of data for the time series with ID 44223010\n",
    "df = hic.get_timeseries_values(ts_id=\"44223010\", period=\"P1D\")\n",
    "\n",
    "# get last day data of time series with ID 44223010 with subset of columns\n",
    "df = hic.get_timeseries_values(ts_id=\"44223010\", period=\"P1D\",\n",
    "         returnfields=\"Timestamp,Value,Interpolation Type,Quality Code\")\n",
    "\n",
    "# get last 10 hours data from Antwerpen tij/Zeeschelde (ts_id 53995010)\n",
    "# containing 'Tide Number' info. Tide number is useful when requesting\n",
    "# tidal extremes (high water/low water, 'ts_name'=Pv.HWLW)\n",
    "df = hic.get_timeseries_values(ts_id=\"53995010\", period=\"PT10H\",\n",
    "         returnfields=\"Timestamp,Value,Tide Number\")"
   ]
  }
 ],
 "metadata": {
  "kernelspec": {
   "display_name": "py_geospatial",
   "language": "python",
   "name": "python3"
  },
  "language_info": {
   "codemirror_mode": {
    "name": "ipython",
    "version": 3
   },
   "file_extension": ".py",
   "mimetype": "text/x-python",
   "name": "python",
   "nbconvert_exporter": "python",
   "pygments_lexer": "ipython3",
   "version": "3.9.19"
  }
 },
 "nbformat": 4,
 "nbformat_minor": 2
}
